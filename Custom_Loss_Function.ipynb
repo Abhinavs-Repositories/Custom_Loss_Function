{
 "cells": [
  {
   "cell_type": "code",
   "execution_count": 1,
   "metadata": {},
   "outputs": [],
   "source": [
    "import tensorflow as tf\n",
    "from tensorflow import keras"
   ]
  },
  {
   "cell_type": "code",
   "execution_count": 9,
   "metadata": {},
   "outputs": [
    {
     "name": "stderr",
     "output_type": "stream",
     "text": [
      "Downloading Cal. housing from https://ndownloader.figshare.com/files/5976036 to /home/abhispearce0071281/scikit_learn_data\n"
     ]
    }
   ],
   "source": [
    "from sklearn.datasets import fetch_california_housing\n",
    "housing = fetch_california_housing()"
   ]
  },
  {
   "cell_type": "code",
   "execution_count": 10,
   "metadata": {},
   "outputs": [],
   "source": [
    "from sklearn.model_selection import train_test_split\n"
   ]
  },
  {
   "cell_type": "code",
   "execution_count": 11,
   "metadata": {},
   "outputs": [],
   "source": [
    "X_train_full, X_test, y_train_full, y_test = train_test_split( housing.data,\n",
    "         housing.target.reshape(-1, 1), random_state=42)\n",
    "\n",
    "X_train, X_valid, y_train, y_valid =  train_test_split( X_train_full, \n",
    "        y_train_full, random_state=42)"
   ]
  },
  {
   "cell_type": "code",
   "execution_count": 13,
   "metadata": {},
   "outputs": [],
   "source": [
    " from sklearn.preprocessing import StandardScaler"
   ]
  },
  {
   "cell_type": "code",
   "execution_count": 17,
   "metadata": {},
   "outputs": [],
   "source": [
    "scaler = StandardScaler()"
   ]
  },
  {
   "cell_type": "code",
   "execution_count": 18,
   "metadata": {},
   "outputs": [],
   "source": [
    "X_train_scaled = scaler.fit_transform(X_train)\n",
    "X_valid_scaled = scaler.transform(X_valid)\n",
    "X_test_scaled = scaler.transform(X_test)\n"
   ]
  },
  {
   "cell_type": "code",
   "execution_count": 27,
   "metadata": {},
   "outputs": [],
   "source": [
    "def huber_fn(y_true, y_pred):\n",
    "        error = y_true - y_pred\n",
    "        is_small_error = tf.abs(error) < 1\n",
    "        squared_loss = tf.square(error) / 2\n",
    "        linear_loss  = tf.abs(error) - 0.5\n",
    "        return tf.where(is_small_error, squared_loss, linear_loss)"
   ]
  },
  {
   "cell_type": "code",
   "execution_count": 30,
   "metadata": {},
   "outputs": [],
   "source": [
    "model = keras.models.Sequential([\n",
    "    keras.layers.Dense(30, activation=\"selu\", \n",
    "       kernel_initializer=\"lecun_normal\", \n",
    "       input_shape=X_train.shape[1:]),\n",
    "    keras.layers.Dense(1),\n",
    "])"
   ]
  },
  {
   "cell_type": "code",
   "execution_count": 32,
   "metadata": {},
   "outputs": [],
   "source": [
    "model.compile(loss=huber_fn, optimizer=\"nadam\", metrics=[\"mae\"])"
   ]
  },
  {
   "cell_type": "code",
   "execution_count": 38,
   "metadata": {},
   "outputs": [
    {
     "name": "stdout",
     "output_type": "stream",
     "text": [
      "Epoch 1/15\n",
      "363/363 [==============================] - 2s 2ms/step - loss: 0.5135 - mae: 0.8655 - val_loss: 0.2914 - val_mae: 0.5803\n",
      "Epoch 2/15\n",
      "363/363 [==============================] - 1s 2ms/step - loss: 0.2112 - mae: 0.5055 - val_loss: 0.2289 - val_mae: 0.5120\n",
      "Epoch 3/15\n",
      "363/363 [==============================] - 1s 2ms/step - loss: 0.2013 - mae: 0.4907 - val_loss: 0.1950 - val_mae: 0.4782\n",
      "Epoch 4/15\n",
      "363/363 [==============================] - 1s 2ms/step - loss: 0.1961 - mae: 0.4844 - val_loss: 0.1963 - val_mae: 0.4754\n",
      "Epoch 5/15\n",
      "363/363 [==============================] - 1s 2ms/step - loss: 0.1929 - mae: 0.4790 - val_loss: 0.1969 - val_mae: 0.4771\n",
      "Epoch 6/15\n",
      "363/363 [==============================] - 1s 2ms/step - loss: 0.1905 - mae: 0.4748 - val_loss: 0.1758 - val_mae: 0.4527\n",
      "Epoch 7/15\n",
      "363/363 [==============================] - 1s 2ms/step - loss: 0.1877 - mae: 0.4702 - val_loss: 0.1786 - val_mae: 0.4549\n",
      "Epoch 8/15\n",
      "363/363 [==============================] - 1s 2ms/step - loss: 0.1853 - mae: 0.4657 - val_loss: 0.1857 - val_mae: 0.4622\n",
      "Epoch 9/15\n",
      "363/363 [==============================] - 1s 2ms/step - loss: 0.1830 - mae: 0.4628 - val_loss: 0.1848 - val_mae: 0.4633\n",
      "Epoch 10/15\n",
      "363/363 [==============================] - 1s 2ms/step - loss: 0.1812 - mae: 0.4591 - val_loss: 0.1882 - val_mae: 0.4626\n",
      "Epoch 11/15\n",
      "363/363 [==============================] - 1s 2ms/step - loss: 0.1795 - mae: 0.4563 - val_loss: 0.1777 - val_mae: 0.4519\n",
      "Epoch 12/15\n",
      "363/363 [==============================] - 1s 2ms/step - loss: 0.1776 - mae: 0.4529 - val_loss: 0.1978 - val_mae: 0.4769\n",
      "Epoch 13/15\n",
      "363/363 [==============================] - 1s 2ms/step - loss: 0.1766 - mae: 0.4510 - val_loss: 0.1683 - val_mae: 0.4386\n",
      "Epoch 14/15\n",
      "363/363 [==============================] - 1s 2ms/step - loss: 0.1746 - mae: 0.4481 - val_loss: 0.1810 - val_mae: 0.4511\n",
      "Epoch 15/15\n",
      "363/363 [==============================] - 1s 2ms/step - loss: 0.1737 - mae: 0.4465 - val_loss: 0.1658 - val_mae: 0.4326\n"
     ]
    },
    {
     "data": {
      "text/plain": [
       "<keras.callbacks.History at 0x7fb262364b00>"
      ]
     },
     "execution_count": 38,
     "metadata": {},
     "output_type": "execute_result"
    }
   ],
   "source": [
    "model.fit(X_train_scaled, y_train, epochs=15,validation_data=(X_valid_scaled, y_valid))"
   ]
  },
  {
   "cell_type": "code",
   "execution_count": 39,
   "metadata": {},
   "outputs": [
    {
     "name": "stdout",
     "output_type": "stream",
     "text": [
      "162/162 [==============================] - 0s 1ms/step - loss: 0.1726 - mae: 0.4443\n"
     ]
    },
    {
     "data": {
      "text/plain": [
       "[0.1725601851940155, 0.44427499175071716]"
      ]
     },
     "execution_count": 39,
     "metadata": {},
     "output_type": "execute_result"
    }
   ],
   "source": [
    "model.evaluate(X_test_scaled, y_test)\n"
   ]
  },
  {
   "cell_type": "code",
   "execution_count": null,
   "metadata": {},
   "outputs": [],
   "source": []
  }
 ],
 "metadata": {
  "kernelspec": {
   "display_name": "tensorflow2",
   "language": "python",
   "name": "tensorflow2"
  },
  "language_info": {
   "codemirror_mode": {
    "name": "ipython",
    "version": 3
   },
   "file_extension": ".py",
   "mimetype": "text/x-python",
   "name": "python",
   "nbconvert_exporter": "python",
   "pygments_lexer": "ipython3",
   "version": "3.6.8"
  },
  "toc": {
   "base_numbering": 1,
   "nav_menu": {},
   "number_sections": true,
   "sideBar": true,
   "skip_h1_title": false,
   "title_cell": "Table of Contents",
   "title_sidebar": "Contents",
   "toc_cell": false,
   "toc_position": {},
   "toc_section_display": true,
   "toc_window_display": false
  }
 },
 "nbformat": 4,
 "nbformat_minor": 2
}
